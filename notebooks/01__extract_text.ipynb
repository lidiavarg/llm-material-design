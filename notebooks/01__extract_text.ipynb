{
 "cells": [
  {
   "cell_type": "code",
   "execution_count": 1,
   "id": "90cfb9f2-cbfb-4045-ad9c-1ed71d287706",
   "metadata": {},
   "outputs": [],
   "source": [
    "import os\n",
    "from pathlib import Path\n",
    "import fitz\n",
    "from bs4 import BeautifulSoup\n",
    "\n",
    "html_doc = ''"
   ]
  },
  {
   "cell_type": "code",
   "execution_count": 2,
   "id": "4a6cf6ed-99f0-4065-b852-439b615e5a23",
   "metadata": {},
   "outputs": [],
   "source": [
    "folder_pdf_path = Path(r'../data/articles pdf 2018')\n",
    "folder_html_path = Path(r'../data/articles_html_2018_jupiter')\n",
    "folder_txt_path = Path(r'../data/articles_txt_2018_jupiter')\n",
    "folder_img_path = Path(r'../data/articles_img_2018_jupiter')\n",
    "\n",
    "'''1)if directory doesn't exist yet, program creates it\n",
    "   2)if directory exists already, program doesn't show an Error message'''\n",
    "folder_html_path.mkdir(parents = True, exist_ok = True) \n",
    "folder_txt_path.mkdir(parents = True, exist_ok = True)"
   ]
  },
  {
   "cell_type": "code",
   "execution_count": 3,
   "id": "dc19dfbe-d406-43f4-9841-8437f8baf55c",
   "metadata": {},
   "outputs": [],
   "source": [
    "pdf_file = list(folder_pdf_path.glob(\"*.pdf\"))[0]\n",
    "doc = fitz.open(pdf_file)\n",
    "\n",
    "file_html_path = folder_html_path/(f'{pdf_file.stem}.html')\n",
    "file_txt_path = folder_txt_path/(f'{pdf_file.stem}.txt')"
   ]
  },
  {
   "cell_type": "code",
   "execution_count": 4,
   "id": "12afa2aa-d2f5-4344-9f95-0ee98a85d626",
   "metadata": {},
   "outputs": [],
   "source": [
    "for page in doc:\n",
    "    html_doc += page.get_text('html')\n",
    "\n",
    "with open(file_html_path, \"w\", encoding=\"utf-8\") as f:\n",
    "    f.write(html_doc)"
   ]
  },
  {
   "cell_type": "code",
   "execution_count": 5,
   "id": "beba793b-721d-4506-808e-757c5e3573e5",
   "metadata": {},
   "outputs": [],
   "source": [
    "with open(file_html_path, \"r\", encoding=\"utf-8\") as f:\n",
    "    soup = BeautifulSoup(f, \"html.parser\") #create an Object there is clean html document structure \n",
    "    text_doc = soup.get_text()"
   ]
  },
  {
   "cell_type": "code",
   "execution_count": 6,
   "id": "a036c333-28e1-439f-9d25-831ccf98c199",
   "metadata": {},
   "outputs": [],
   "source": [
    "with open(file_txt_path, \"w\", encoding=\"utf-8\") as f:\n",
    "    f.write(text_doc)"
   ]
  },
  {
   "cell_type": "code",
   "execution_count": null,
   "id": "c2d0d48b-af80-42b9-90de-0acb6759454d",
   "metadata": {},
   "outputs": [],
   "source": []
  },
  {
   "cell_type": "code",
   "execution_count": null,
   "id": "a9d93870-2445-4de2-aded-4b16622a14ba",
   "metadata": {},
   "outputs": [],
   "source": []
  }
 ],
 "metadata": {
  "kernelspec": {
   "display_name": "Python (llm_env)",
   "language": "python",
   "name": "llm_env"
  },
  "language_info": {
   "codemirror_mode": {
    "name": "ipython",
    "version": 3
   },
   "file_extension": ".py",
   "mimetype": "text/x-python",
   "name": "python",
   "nbconvert_exporter": "python",
   "pygments_lexer": "ipython3",
   "version": "3.10.17"
  }
 },
 "nbformat": 4,
 "nbformat_minor": 5
}
